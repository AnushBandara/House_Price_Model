{
 "cells": [
  {
   "cell_type": "markdown",
   "id": "a21d130f",
   "metadata": {},
   "source": [
    "# House Price Prediction Model\n",
    "  This is the project from the Code Basics Chanel."
   ]
  },
  {
   "cell_type": "code",
   "execution_count": 2,
   "id": "ce39f8cc",
   "metadata": {},
   "outputs": [],
   "source": [
    "#Importing all the libraries need.\n",
    "\n",
    "import pandas as pd\n",
    "import numpy as np\n",
    "from matplotlib import pyplot as plt\n",
    "%matplotlib inline\n",
    "import matplotlib \n",
    "\n",
    "matplotlib.rcParams[\"figure.figsize\"] = (20,10) #Set the size of plots"
   ]
  },
  {
   "cell_type": "code",
   "execution_count": null,
   "id": "2a1e275c",
   "metadata": {},
   "outputs": [],
   "source": []
  }
 ],
 "metadata": {
  "kernelspec": {
   "display_name": "Python 3 (ipykernel)",
   "language": "python",
   "name": "python3"
  },
  "language_info": {
   "codemirror_mode": {
    "name": "ipython",
    "version": 3
   },
   "file_extension": ".py",
   "mimetype": "text/x-python",
   "name": "python",
   "nbconvert_exporter": "python",
   "pygments_lexer": "ipython3",
   "version": "3.11.5"
  }
 },
 "nbformat": 4,
 "nbformat_minor": 5
}
